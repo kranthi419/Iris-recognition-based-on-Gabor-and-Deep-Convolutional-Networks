{
 "cells": [
  {
   "cell_type": "code",
   "execution_count": null,
   "metadata": {
    "colab": {
     "base_uri": "https://localhost:8080/"
    },
    "id": "snndGbfqM32p",
    "outputId": "aa5856c5-9b28-43fa-cf84-acd1eff24ca1"
   },
   "outputs": [
    {
     "name": "stdout",
     "output_type": "stream",
     "text": [
      "Mounted at /content/drive\n"
     ]
    }
   ],
   "source": [
    "from google.colab import drive\n",
    "drive.mount('/content/drive')"
   ]
  },
  {
   "cell_type": "code",
   "execution_count": null,
   "metadata": {
    "colab": {
     "base_uri": "https://localhost:8080/"
    },
    "id": "UQ5GtLKdWx9e",
    "outputId": "ac0e9264-d3a2-4d30-d065-2a901097f2ba"
   },
   "outputs": [
    {
     "name": "stdout",
     "output_type": "stream",
     "text": [
      "TensorFlow 1.x selected.\n"
     ]
    }
   ],
   "source": [
    "%tensorflow_version 1.x"
   ]
  },
  {
   "cell_type": "code",
   "execution_count": null,
   "metadata": {
    "colab": {
     "base_uri": "https://localhost:8080/"
    },
    "id": "0EiBIoPaW7xH",
    "outputId": "5015ef0d-f489-4ce2-da5d-2ee58de5053a"
   },
   "outputs": [
    {
     "name": "stdout",
     "output_type": "stream",
     "text": [
      "1.15.2\n"
     ]
    }
   ],
   "source": [
    "import tensorflow\n",
    "print(tensorflow.__version__)"
   ]
  },
  {
   "cell_type": "code",
   "execution_count": null,
   "metadata": {
    "id": "ohFblfTFn2JR"
   },
   "outputs": [],
   "source": [
    "DATADIR = '/content/drive/MyDrive/updated segmented images'"
   ]
  },
  {
   "cell_type": "code",
   "execution_count": null,
   "metadata": {
    "id": "ctWUeX0YiI2T"
   },
   "outputs": [],
   "source": [
    "import numpy as np\n",
    "import pandas as pd\n",
    "\n",
    "import cv2\n",
    "import os\n",
    "from sklearn.model_selection import train_test_split\n",
    "from keras.models import Sequential\n",
    "from keras.layers import Dense\n",
    "from keras.layers import Dropout\n",
    "from keras.layers import Flatten\n",
    "from keras.constraints import max_norm\n",
    "from keras.optimizers import SGD\n",
    "from keras.layers.convolutional import Convolution2D\n",
    "from keras.layers.convolutional import MaxPooling2D\n",
    "from keras.utils import np_utils\n",
    "from matplotlib import pyplot as plt"
   ]
  },
  {
   "cell_type": "code",
   "execution_count": null,
   "metadata": {
    "id": "tKUvfVTWiMhj"
   },
   "outputs": [],
   "source": [
    "from keras.preprocessing import image"
   ]
  },
  {
   "cell_type": "code",
   "execution_count": null,
   "metadata": {
    "id": "Z1x9RWEatuNr"
   },
   "outputs": [],
   "source": [
    "img_data_list1=[]\n",
    "img_data_list2=[]\n",
    "img_data_list3=[]\n",
    "img_data_list4=[]\n",
    "\n",
    "label_list1=[]\n",
    "label_list2=[]\n",
    "label_list3=[]\n",
    "label_list4=[]\n",
    "\n",
    "count = 0\n",
    "for img in os.listdir(DATADIR):\n",
    "  img_array = cv2.imread(os.path.join(DATADIR,img))\n",
    "  new_array = cv2.resize(img_array,(150,200))\n",
    "  img_tensor = image.img_to_array(new_array)\n",
    "  if img[4:5]=='0' or img[4:5]=='6':\n",
    "    img_data_list1.append(img_tensor)\n",
    "    label_list1.append(img[0:3])\n",
    "  if img[4:5]=='1' or img[4:5]=='5':\n",
    "    img_data_list2.append(img_tensor)\n",
    "    label_list2.append(img[0:3])\n",
    "  if img[4:5]=='2' or img[4:5]=='4':\n",
    "    img_data_list3.append(img_tensor)\n",
    "    label_list3.append(img[0:3])\n",
    "  if img[4:5]=='3':\n",
    "    img_data_list4.append(img_tensor)\n",
    "    label_list4.append(img[0:3])"
   ]
  },
  {
   "cell_type": "code",
   "execution_count": null,
   "metadata": {
    "id": "ULQP_0z_tyBp"
   },
   "outputs": [],
   "source": [
    "train_img = np.array(img_data_list1)\n",
    "train_img = np.append(train_img,np.array(img_data_list2),axis=0)\n",
    "train_img = np.append(train_img,np.array(img_data_list3),axis=0)\n",
    "\n",
    "train_img/=255\n",
    "\n",
    "train_label = np.array(label_list1)\n",
    "train_label = np.append(train_label,np.array(label_list2),axis=0)\n",
    "train_label = np.append(train_label,np.array(label_list3),axis=0)\n",
    "\n",
    "test_img = np.array(img_data_list3)\n",
    "\n",
    "test_img/=255\n",
    "\n",
    "test_label = np.array(label_list3)\n",
    "\n",
    "validate_img = np.array(img_data_list4)\n",
    "\n",
    "validate_img/=255\n",
    "\n",
    "validate_label = np.array(label_list4)"
   ]
  },
  {
   "cell_type": "code",
   "execution_count": null,
   "metadata": {
    "colab": {
     "base_uri": "https://localhost:8080/"
    },
    "id": "RwvG9Z2yhnrT",
    "outputId": "192ed36a-b0ab-465f-d826-c665ea92db9d"
   },
   "outputs": [
    {
     "name": "stdout",
     "output_type": "stream",
     "text": [
      "108\n"
     ]
    }
   ],
   "source": [
    "print(len(sorted(list(set(train_label)))))"
   ]
  },
  {
   "cell_type": "code",
   "execution_count": null,
   "metadata": {
    "colab": {
     "base_uri": "https://localhost:8080/"
    },
    "id": "LpY1YsDSiPiN",
    "outputId": "b2e61a77-e777-40e9-b4ed-32c6ebdb7132"
   },
   "outputs": [
    {
     "name": "stdout",
     "output_type": "stream",
     "text": [
      "data normalized and hot encoded\n",
      "109\n"
     ]
    }
   ],
   "source": [
    "train_label = np.array(train_label)\n",
    "test_label = np.array(test_label)\n",
    "train_label = np_utils.to_categorical(train_label)\n",
    "test_label = np_utils.to_categorical(test_label)\n",
    "validate_label = np_utils.to_categorical(validate_label)\n",
    "num_classes = train_label.shape[1]\n",
    "print('data normalized and hot encoded')\n",
    "print(num_classes)"
   ]
  },
  {
   "cell_type": "code",
   "execution_count": null,
   "metadata": {
    "colab": {
     "base_uri": "https://localhost:8080/"
    },
    "id": "bN_CLmmwjeWQ",
    "outputId": "3e99d33b-36d0-433f-fc98-256738d49085"
   },
   "outputs": [
    {
     "name": "stdout",
     "output_type": "stream",
     "text": [
      "after conversion to one-hot: [0. 1. 0. 0. 0. 0. 0. 0. 0. 0. 0. 0. 0. 0. 0. 0. 0. 0. 0. 0. 0. 0. 0. 0.\n",
      " 0. 0. 0. 0. 0. 0. 0. 0. 0. 0. 0. 0. 0. 0. 0. 0. 0. 0. 0. 0. 0. 0. 0. 0.\n",
      " 0. 0. 0. 0. 0. 0. 0. 0. 0. 0. 0. 0. 0. 0. 0. 0. 0. 0. 0. 0. 0. 0. 0. 0.\n",
      " 0. 0. 0. 0. 0. 0. 0. 0. 0. 0. 0. 0. 0. 0. 0. 0. 0. 0. 0. 0. 0. 0. 0. 0.\n",
      " 0. 0. 0. 0. 0. 0. 0. 0. 0. 0. 0. 0. 0.]\n"
     ]
    }
   ],
   "source": [
    "print('after conversion to one-hot:',train_label[0])"
   ]
  },
  {
   "cell_type": "code",
   "execution_count": null,
   "metadata": {
    "colab": {
     "base_uri": "https://localhost:8080/"
    },
    "id": "BX8GmxpCRpKL",
    "outputId": "99212ab8-1da0-4e5d-fe69-bb292876d1f5"
   },
   "outputs": [
    {
     "name": "stdout",
     "output_type": "stream",
     "text": [
      "Model: \"sequential_2\"\n",
      "_________________________________________________________________\n",
      "Layer (type)                 Output Shape              Param #   \n",
      "=================================================================\n",
      "conv2d_4 (Conv2D)            (None, 200, 150, 32)      896       \n",
      "_________________________________________________________________\n",
      "max_pooling2d_4 (MaxPooling2 (None, 100, 75, 32)       0         \n",
      "_________________________________________________________________\n",
      "conv2d_5 (Conv2D)            (None, 100, 75, 64)       18496     \n",
      "_________________________________________________________________\n",
      "max_pooling2d_5 (MaxPooling2 (None, 50, 37, 64)        0         \n",
      "_________________________________________________________________\n",
      "conv2d_6 (Conv2D)            (None, 50, 37, 128)       73856     \n",
      "_________________________________________________________________\n",
      "max_pooling2d_6 (MaxPooling2 (None, 25, 18, 128)       0         \n",
      "_________________________________________________________________\n",
      "flatten_2 (Flatten)          (None, 57600)             0         \n",
      "_________________________________________________________________\n",
      "dense_4 (Dense)              (None, 512)               29491712  \n",
      "_________________________________________________________________\n",
      "dropout_2 (Dropout)          (None, 512)               0         \n",
      "_________________________________________________________________\n",
      "dense_5 (Dense)              (None, 256)               131328    \n",
      "_________________________________________________________________\n",
      "dense_6 (Dense)              (None, 109)               28013     \n",
      "=================================================================\n",
      "Total params: 29,744,301\n",
      "Trainable params: 29,744,301\n",
      "Non-trainable params: 0\n",
      "_________________________________________________________________\n",
      "None\n",
      "CNN MODEL created.\n"
     ]
    },
    {
     "name": "stderr",
     "output_type": "stream",
     "text": [
      "/usr/local/lib/python3.7/dist-packages/ipykernel_launcher.py:3: UserWarning: Update your `Conv2D` call to the Keras 2 API: `Conv2D(32, (3, 3), input_shape=(200, 150,..., activation=\"relu\", padding=\"same\", kernel_constraint=<keras.con...)`\n",
      "  This is separate from the ipykernel package so we can avoid doing imports until\n",
      "/usr/local/lib/python3.7/dist-packages/ipykernel_launcher.py:5: UserWarning: Update your `Conv2D` call to the Keras 2 API: `Conv2D(64, (3, 3), activation=\"relu\", padding=\"same\", kernel_constraint=<keras.con...)`\n",
      "  \"\"\"\n",
      "/usr/local/lib/python3.7/dist-packages/ipykernel_launcher.py:7: UserWarning: Update your `Conv2D` call to the Keras 2 API: `Conv2D(128, (3, 3), activation=\"relu\", padding=\"same\", kernel_constraint=<keras.con...)`\n",
      "  import sys\n",
      "/usr/local/lib/python3.7/dist-packages/ipykernel_launcher.py:11: UserWarning: Update your `Dense` call to the Keras 2 API: `Dense(512, activation=\"relu\", kernel_constraint=<keras.con...)`\n",
      "  # This is added back by InteractiveShellApp.init_path()\n",
      "/usr/local/lib/python3.7/dist-packages/ipykernel_launcher.py:13: UserWarning: Update your `Dense` call to the Keras 2 API: `Dense(256, activation=\"relu\", kernel_constraint=<keras.con...)`\n",
      "  del sys.path[0]\n"
     ]
    }
   ],
   "source": [
    "def createCNNModel(num_classes):\n",
    "  model = Sequential()\n",
    "  model.add(Convolution2D(32,3,3,input_shape=(200,150,3),border_mode='same',activation='relu',W_constraint=max_norm(3)))\n",
    "  model.add(MaxPooling2D(pool_size=(2,2)))\n",
    "  model.add(Convolution2D(64,3,3,border_mode='same',activation='relu',W_constraint=max_norm(3)))\n",
    "  model.add(MaxPooling2D(pool_size=(2,2)))\n",
    "  model.add(Convolution2D(128,3,3,border_mode='same',activation='relu',W_constraint=max_norm(3)))\n",
    "  model.add(MaxPooling2D(pool_size=(2,2)))\n",
    "\n",
    "  model.add(Flatten())\n",
    "  model.add(Dense(512,activation='relu',W_constraint=max_norm(3)))\n",
    "  model.add(Dropout(0.3))\n",
    "  model.add(Dense(256,activation='relu',W_constraint=max_norm(3)))\n",
    "  model.add(Dense(num_classes,activation='softmax'))\n",
    "\n",
    "  epochs=100\n",
    "  lrate = 0.01\n",
    "  decay = lrate/epochs\n",
    "  sgd = SGD(lr=lrate,momentum=0.9,decay=decay,nesterov=False)\n",
    "  model.compile(loss='categorical_crossentropy',optimizer=sgd,metrics=['accuracy'])\n",
    "  print(model.summary())\n",
    "  return model,epochs\n",
    "num_classes = 109\n",
    "model,epochs = createCNNModel(num_classes)\n",
    "print(\"CNN MODEL created.\")"
   ]
  },
  {
   "cell_type": "code",
   "execution_count": null,
   "metadata": {
    "colab": {
     "base_uri": "https://localhost:8080/"
    },
    "id": "AB1dGvR0kP28",
    "outputId": "9b9f1934-abc4-42b5-db75-a845e6807a0e"
   },
   "outputs": [
    {
     "name": "stderr",
     "output_type": "stream",
     "text": [
      "/usr/local/lib/python3.7/dist-packages/ipykernel_launcher.py:1: UserWarning: The `nb_epoch` argument in `fit` has been renamed `epochs`.\n",
      "  \"\"\"Entry point for launching an IPython kernel.\n"
     ]
    },
    {
     "name": "stdout",
     "output_type": "stream",
     "text": [
      "Train on 648 samples, validate on 108 samples\n",
      "Epoch 1/100\n",
      "648/648 [==============================] - 1s 2ms/step - loss: 4.7017 - accuracy: 0.0046 - val_loss: 4.6865 - val_accuracy: 0.0185\n",
      "Epoch 2/100\n",
      "648/648 [==============================] - 1s 2ms/step - loss: 4.6926 - accuracy: 0.0062 - val_loss: 4.6857 - val_accuracy: 0.0185\n",
      "Epoch 3/100\n",
      "648/648 [==============================] - 1s 2ms/step - loss: 4.6858 - accuracy: 0.0123 - val_loss: 4.6789 - val_accuracy: 0.0463\n",
      "Epoch 4/100\n",
      "648/648 [==============================] - 1s 2ms/step - loss: 4.6755 - accuracy: 0.0108 - val_loss: 4.6625 - val_accuracy: 0.0648\n",
      "Epoch 5/100\n",
      "648/648 [==============================] - 1s 2ms/step - loss: 4.6578 - accuracy: 0.0370 - val_loss: 4.6363 - val_accuracy: 0.0833\n",
      "Epoch 6/100\n",
      "648/648 [==============================] - 1s 2ms/step - loss: 4.6172 - accuracy: 0.0571 - val_loss: 4.5432 - val_accuracy: 0.1296\n",
      "Epoch 7/100\n",
      "648/648 [==============================] - 1s 2ms/step - loss: 4.4797 - accuracy: 0.1204 - val_loss: 4.2233 - val_accuracy: 0.2870\n",
      "Epoch 8/100\n",
      "648/648 [==============================] - 1s 2ms/step - loss: 3.9808 - accuracy: 0.1790 - val_loss: 3.2314 - val_accuracy: 0.4074\n",
      "Epoch 9/100\n",
      "648/648 [==============================] - 1s 2ms/step - loss: 2.4941 - accuracy: 0.4414 - val_loss: 1.5988 - val_accuracy: 0.6204\n",
      "Epoch 10/100\n",
      "648/648 [==============================] - 1s 2ms/step - loss: 1.0035 - accuracy: 0.7562 - val_loss: 0.8312 - val_accuracy: 0.8426\n",
      "Epoch 11/100\n",
      "648/648 [==============================] - 1s 2ms/step - loss: 0.3469 - accuracy: 0.9182 - val_loss: 0.7400 - val_accuracy: 0.8333\n",
      "Epoch 12/100\n",
      "648/648 [==============================] - 1s 2ms/step - loss: 0.3039 - accuracy: 0.9213 - val_loss: 0.7546 - val_accuracy: 0.8241\n",
      "Epoch 13/100\n",
      "648/648 [==============================] - 1s 2ms/step - loss: 0.2086 - accuracy: 0.9491 - val_loss: 0.5713 - val_accuracy: 0.8704\n",
      "Epoch 14/100\n",
      "648/648 [==============================] - 1s 2ms/step - loss: 0.0959 - accuracy: 0.9769 - val_loss: 0.2264 - val_accuracy: 0.9352\n",
      "Epoch 15/100\n",
      "648/648 [==============================] - 1s 2ms/step - loss: 0.0392 - accuracy: 0.9861 - val_loss: 0.3832 - val_accuracy: 0.8981\n",
      "Epoch 16/100\n",
      "648/648 [==============================] - 1s 2ms/step - loss: 0.0518 - accuracy: 0.9892 - val_loss: 0.3136 - val_accuracy: 0.9444\n",
      "Epoch 17/100\n",
      "648/648 [==============================] - 1s 2ms/step - loss: 0.0263 - accuracy: 0.9877 - val_loss: 0.4228 - val_accuracy: 0.9074\n",
      "Epoch 18/100\n",
      "648/648 [==============================] - 1s 2ms/step - loss: 0.0370 - accuracy: 0.9907 - val_loss: 0.3808 - val_accuracy: 0.8796\n",
      "Epoch 19/100\n",
      "648/648 [==============================] - 1s 2ms/step - loss: 0.0129 - accuracy: 0.9954 - val_loss: 0.4638 - val_accuracy: 0.8889\n",
      "Epoch 20/100\n",
      "648/648 [==============================] - 1s 2ms/step - loss: 0.0169 - accuracy: 0.9938 - val_loss: 0.3449 - val_accuracy: 0.8981\n",
      "Epoch 21/100\n",
      "648/648 [==============================] - 1s 2ms/step - loss: 0.0074 - accuracy: 0.9969 - val_loss: 0.4321 - val_accuracy: 0.9074\n",
      "Epoch 22/100\n",
      "648/648 [==============================] - 1s 2ms/step - loss: 0.0054 - accuracy: 0.9985 - val_loss: 0.2956 - val_accuracy: 0.9444\n",
      "Epoch 23/100\n",
      "648/648 [==============================] - 1s 2ms/step - loss: 0.0065 - accuracy: 0.9969 - val_loss: 0.2344 - val_accuracy: 0.9537\n",
      "Epoch 24/100\n",
      "648/648 [==============================] - 1s 2ms/step - loss: 0.0058 - accuracy: 0.9985 - val_loss: 0.3534 - val_accuracy: 0.9352\n",
      "Epoch 25/100\n",
      "648/648 [==============================] - 1s 2ms/step - loss: 0.0112 - accuracy: 0.9954 - val_loss: 0.3074 - val_accuracy: 0.9167\n",
      "Epoch 26/100\n",
      "648/648 [==============================] - 1s 2ms/step - loss: 0.0239 - accuracy: 0.9938 - val_loss: 0.2712 - val_accuracy: 0.9352\n",
      "Epoch 27/100\n",
      "648/648 [==============================] - 1s 2ms/step - loss: 0.0034 - accuracy: 0.9985 - val_loss: 0.2387 - val_accuracy: 0.9352\n",
      "Epoch 28/100\n",
      "648/648 [==============================] - 1s 2ms/step - loss: 0.0045 - accuracy: 0.9985 - val_loss: 0.3153 - val_accuracy: 0.9074\n",
      "Epoch 29/100\n",
      "648/648 [==============================] - 1s 2ms/step - loss: 0.0026 - accuracy: 1.0000 - val_loss: 0.2172 - val_accuracy: 0.9352\n",
      "Epoch 30/100\n",
      "648/648 [==============================] - 1s 2ms/step - loss: 0.0031 - accuracy: 0.9985 - val_loss: 0.2519 - val_accuracy: 0.9352\n",
      "Epoch 31/100\n",
      "648/648 [==============================] - 1s 2ms/step - loss: 0.0022 - accuracy: 1.0000 - val_loss: 0.1639 - val_accuracy: 0.9444\n",
      "Epoch 32/100\n",
      "648/648 [==============================] - 1s 2ms/step - loss: 0.0011 - accuracy: 1.0000 - val_loss: 0.1332 - val_accuracy: 0.9722\n",
      "Epoch 33/100\n",
      "648/648 [==============================] - 1s 2ms/step - loss: 7.9639e-04 - accuracy: 1.0000 - val_loss: 0.1309 - val_accuracy: 0.9722\n",
      "Epoch 34/100\n",
      "648/648 [==============================] - 1s 2ms/step - loss: 2.4119e-04 - accuracy: 1.0000 - val_loss: 0.1303 - val_accuracy: 0.9722\n",
      "Epoch 35/100\n",
      "648/648 [==============================] - 1s 2ms/step - loss: 3.9047e-04 - accuracy: 1.0000 - val_loss: 0.1196 - val_accuracy: 0.9722\n",
      "Epoch 36/100\n",
      "648/648 [==============================] - 1s 2ms/step - loss: 4.7135e-04 - accuracy: 1.0000 - val_loss: 0.1074 - val_accuracy: 0.9722\n",
      "Epoch 37/100\n",
      "648/648 [==============================] - 1s 2ms/step - loss: 0.0010 - accuracy: 1.0000 - val_loss: 0.1354 - val_accuracy: 0.9630\n",
      "Epoch 38/100\n",
      "648/648 [==============================] - 1s 2ms/step - loss: 0.0165 - accuracy: 0.9954 - val_loss: 0.3530 - val_accuracy: 0.9259\n",
      "Epoch 39/100\n",
      "648/648 [==============================] - 1s 2ms/step - loss: 0.0046 - accuracy: 0.9985 - val_loss: 0.3221 - val_accuracy: 0.9352\n",
      "Epoch 40/100\n",
      "648/648 [==============================] - 1s 2ms/step - loss: 0.0145 - accuracy: 0.9938 - val_loss: 0.2783 - val_accuracy: 0.9167\n",
      "Epoch 41/100\n",
      "648/648 [==============================] - 1s 2ms/step - loss: 0.0069 - accuracy: 0.9985 - val_loss: 0.2466 - val_accuracy: 0.9352\n",
      "Epoch 42/100\n",
      "648/648 [==============================] - 1s 2ms/step - loss: 0.0076 - accuracy: 0.9985 - val_loss: 0.2253 - val_accuracy: 0.9444\n",
      "Epoch 43/100\n",
      "648/648 [==============================] - 1s 2ms/step - loss: 0.0022 - accuracy: 1.0000 - val_loss: 0.1694 - val_accuracy: 0.9537\n",
      "Epoch 44/100\n",
      "648/648 [==============================] - 1s 2ms/step - loss: 6.4976e-04 - accuracy: 1.0000 - val_loss: 0.1428 - val_accuracy: 0.9537\n",
      "Epoch 45/100\n",
      "648/648 [==============================] - 1s 2ms/step - loss: 2.9620e-04 - accuracy: 1.0000 - val_loss: 0.1316 - val_accuracy: 0.9537\n",
      "Epoch 46/100\n",
      "648/648 [==============================] - 1s 2ms/step - loss: 0.0012 - accuracy: 1.0000 - val_loss: 0.1118 - val_accuracy: 0.9630\n",
      "Epoch 47/100\n",
      "648/648 [==============================] - 1s 2ms/step - loss: 0.0330 - accuracy: 0.9969 - val_loss: 0.4575 - val_accuracy: 0.9167\n",
      "Epoch 48/100\n",
      "648/648 [==============================] - 1s 2ms/step - loss: 0.0301 - accuracy: 0.9923 - val_loss: 0.2669 - val_accuracy: 0.9259\n",
      "Epoch 49/100\n",
      "648/648 [==============================] - 1s 2ms/step - loss: 0.0037 - accuracy: 0.9985 - val_loss: 0.2664 - val_accuracy: 0.9167\n",
      "Epoch 50/100\n",
      "648/648 [==============================] - 1s 2ms/step - loss: 7.5137e-04 - accuracy: 1.0000 - val_loss: 0.2691 - val_accuracy: 0.9259\n",
      "Epoch 51/100\n",
      "648/648 [==============================] - 1s 2ms/step - loss: 9.6100e-04 - accuracy: 1.0000 - val_loss: 0.2280 - val_accuracy: 0.9444\n",
      "Epoch 52/100\n",
      "648/648 [==============================] - 1s 2ms/step - loss: 8.9952e-04 - accuracy: 1.0000 - val_loss: 0.1599 - val_accuracy: 0.9537\n",
      "Epoch 53/100\n",
      "648/648 [==============================] - 1s 2ms/step - loss: 0.0045 - accuracy: 0.9985 - val_loss: 0.2698 - val_accuracy: 0.9444\n",
      "Epoch 54/100\n",
      "648/648 [==============================] - 1s 2ms/step - loss: 0.0198 - accuracy: 0.9954 - val_loss: 0.4564 - val_accuracy: 0.8796\n",
      "Epoch 55/100\n",
      "648/648 [==============================] - 1s 2ms/step - loss: 0.0015 - accuracy: 1.0000 - val_loss: 0.3298 - val_accuracy: 0.9167\n",
      "Epoch 56/100\n",
      "648/648 [==============================] - 1s 2ms/step - loss: 0.0022 - accuracy: 1.0000 - val_loss: 0.2506 - val_accuracy: 0.9259\n",
      "Epoch 57/100\n",
      "648/648 [==============================] - 1s 2ms/step - loss: 8.3549e-04 - accuracy: 1.0000 - val_loss: 0.1888 - val_accuracy: 0.9444\n",
      "Epoch 58/100\n",
      "648/648 [==============================] - 1s 2ms/step - loss: 2.5114e-04 - accuracy: 1.0000 - val_loss: 0.1705 - val_accuracy: 0.9444\n",
      "Epoch 59/100\n",
      "648/648 [==============================] - 1s 2ms/step - loss: 1.3306e-04 - accuracy: 1.0000 - val_loss: 0.1593 - val_accuracy: 0.9630\n",
      "Epoch 60/100\n",
      "648/648 [==============================] - 1s 2ms/step - loss: 0.0070 - accuracy: 0.9985 - val_loss: 0.2653 - val_accuracy: 0.9630\n",
      "Epoch 61/100\n",
      "648/648 [==============================] - 1s 2ms/step - loss: 0.0084 - accuracy: 0.9985 - val_loss: 0.1931 - val_accuracy: 0.9537\n",
      "Epoch 62/100\n",
      "648/648 [==============================] - 1s 2ms/step - loss: 0.0026 - accuracy: 1.0000 - val_loss: 0.2118 - val_accuracy: 0.9444\n",
      "Epoch 63/100\n",
      "648/648 [==============================] - 1s 2ms/step - loss: 0.0054 - accuracy: 0.9985 - val_loss: 0.2360 - val_accuracy: 0.9444\n",
      "Epoch 64/100\n",
      "648/648 [==============================] - 1s 2ms/step - loss: 0.0032 - accuracy: 0.9985 - val_loss: 0.2362 - val_accuracy: 0.9444\n",
      "Epoch 65/100\n",
      "648/648 [==============================] - 1s 2ms/step - loss: 0.0013 - accuracy: 1.0000 - val_loss: 0.1868 - val_accuracy: 0.9537\n",
      "Epoch 66/100\n",
      "648/648 [==============================] - 1s 2ms/step - loss: 0.0013 - accuracy: 1.0000 - val_loss: 0.1422 - val_accuracy: 0.9722\n",
      "Epoch 67/100\n",
      "648/648 [==============================] - 1s 2ms/step - loss: 2.2405e-04 - accuracy: 1.0000 - val_loss: 0.1382 - val_accuracy: 0.9722\n",
      "Epoch 68/100\n",
      "648/648 [==============================] - 1s 2ms/step - loss: 5.9061e-04 - accuracy: 1.0000 - val_loss: 0.1304 - val_accuracy: 0.9630\n",
      "Epoch 69/100\n",
      "648/648 [==============================] - 1s 2ms/step - loss: 3.0144e-04 - accuracy: 1.0000 - val_loss: 0.1297 - val_accuracy: 0.9630\n",
      "Epoch 70/100\n",
      "648/648 [==============================] - 1s 2ms/step - loss: 1.1415e-04 - accuracy: 1.0000 - val_loss: 0.1279 - val_accuracy: 0.9630\n",
      "Epoch 71/100\n",
      "648/648 [==============================] - 1s 2ms/step - loss: 2.0831e-04 - accuracy: 1.0000 - val_loss: 0.1260 - val_accuracy: 0.9630\n",
      "Epoch 72/100\n",
      "648/648 [==============================] - 1s 2ms/step - loss: 8.2987e-04 - accuracy: 1.0000 - val_loss: 0.1271 - val_accuracy: 0.9722\n",
      "Epoch 73/100\n",
      "648/648 [==============================] - 1s 2ms/step - loss: 7.2234e-05 - accuracy: 1.0000 - val_loss: 0.1264 - val_accuracy: 0.9722\n",
      "Epoch 74/100\n",
      "648/648 [==============================] - 1s 2ms/step - loss: 1.5312e-04 - accuracy: 1.0000 - val_loss: 0.1259 - val_accuracy: 0.9722\n",
      "Epoch 75/100\n",
      "648/648 [==============================] - 1s 2ms/step - loss: 3.4009e-04 - accuracy: 1.0000 - val_loss: 0.1298 - val_accuracy: 0.9722\n",
      "Epoch 76/100\n",
      "648/648 [==============================] - 1s 2ms/step - loss: 7.7257e-05 - accuracy: 1.0000 - val_loss: 0.1290 - val_accuracy: 0.9722\n",
      "Epoch 77/100\n",
      "648/648 [==============================] - 1s 2ms/step - loss: 1.2924e-04 - accuracy: 1.0000 - val_loss: 0.1294 - val_accuracy: 0.9722\n",
      "Epoch 78/100\n",
      "648/648 [==============================] - 1s 2ms/step - loss: 4.8153e-05 - accuracy: 1.0000 - val_loss: 0.1293 - val_accuracy: 0.9722\n",
      "Epoch 79/100\n",
      "648/648 [==============================] - 1s 2ms/step - loss: 7.5183e-05 - accuracy: 1.0000 - val_loss: 0.1284 - val_accuracy: 0.9722\n",
      "Epoch 80/100\n",
      "648/648 [==============================] - 1s 2ms/step - loss: 3.6897e-05 - accuracy: 1.0000 - val_loss: 0.1285 - val_accuracy: 0.9722\n",
      "Epoch 81/100\n",
      "648/648 [==============================] - 1s 2ms/step - loss: 3.2899e-04 - accuracy: 1.0000 - val_loss: 0.1250 - val_accuracy: 0.9722\n",
      "Epoch 82/100\n",
      "648/648 [==============================] - 1s 2ms/step - loss: 4.7936e-05 - accuracy: 1.0000 - val_loss: 0.1237 - val_accuracy: 0.9722\n",
      "Epoch 83/100\n",
      "648/648 [==============================] - 1s 2ms/step - loss: 1.0091e-04 - accuracy: 1.0000 - val_loss: 0.1216 - val_accuracy: 0.9722\n",
      "Epoch 84/100\n",
      "648/648 [==============================] - 1s 2ms/step - loss: 1.3797e-04 - accuracy: 1.0000 - val_loss: 0.1160 - val_accuracy: 0.9722\n",
      "Epoch 85/100\n",
      "648/648 [==============================] - 1s 2ms/step - loss: 2.5744e-05 - accuracy: 1.0000 - val_loss: 0.1150 - val_accuracy: 0.9722\n",
      "Epoch 86/100\n",
      "648/648 [==============================] - 1s 2ms/step - loss: 3.3673e-05 - accuracy: 1.0000 - val_loss: 0.1144 - val_accuracy: 0.9722\n",
      "Epoch 87/100\n",
      "648/648 [==============================] - 1s 2ms/step - loss: 7.1388e-05 - accuracy: 1.0000 - val_loss: 0.1141 - val_accuracy: 0.9722\n",
      "Epoch 88/100\n",
      "648/648 [==============================] - 1s 2ms/step - loss: 1.8186e-04 - accuracy: 1.0000 - val_loss: 0.1101 - val_accuracy: 0.9722\n",
      "Epoch 89/100\n",
      "648/648 [==============================] - 1s 2ms/step - loss: 6.8358e-05 - accuracy: 1.0000 - val_loss: 0.1080 - val_accuracy: 0.9722\n",
      "Epoch 90/100\n",
      "648/648 [==============================] - 1s 2ms/step - loss: 3.1218e-05 - accuracy: 1.0000 - val_loss: 0.1072 - val_accuracy: 0.9722\n",
      "Epoch 91/100\n",
      "648/648 [==============================] - 1s 2ms/step - loss: 2.9932e-05 - accuracy: 1.0000 - val_loss: 0.1069 - val_accuracy: 0.9722\n",
      "Epoch 92/100\n",
      "648/648 [==============================] - 1s 2ms/step - loss: 6.9700e-05 - accuracy: 1.0000 - val_loss: 0.1065 - val_accuracy: 0.9722\n",
      "Epoch 93/100\n",
      "648/648 [==============================] - 1s 2ms/step - loss: 7.3481e-05 - accuracy: 1.0000 - val_loss: 0.1064 - val_accuracy: 0.9722\n",
      "Epoch 94/100\n",
      "648/648 [==============================] - 1s 2ms/step - loss: 2.8372e-05 - accuracy: 1.0000 - val_loss: 0.1059 - val_accuracy: 0.9722\n",
      "Epoch 95/100\n",
      "648/648 [==============================] - 1s 2ms/step - loss: 3.3508e-05 - accuracy: 1.0000 - val_loss: 0.1054 - val_accuracy: 0.9722\n",
      "Epoch 96/100\n",
      "648/648 [==============================] - 1s 2ms/step - loss: 1.2603e-05 - accuracy: 1.0000 - val_loss: 0.1049 - val_accuracy: 0.9722\n",
      "Epoch 97/100\n",
      "648/648 [==============================] - 1s 2ms/step - loss: 3.8558e-05 - accuracy: 1.0000 - val_loss: 0.1046 - val_accuracy: 0.9722\n",
      "Epoch 98/100\n",
      "648/648 [==============================] - 1s 2ms/step - loss: 1.1010e-04 - accuracy: 1.0000 - val_loss: 0.1010 - val_accuracy: 0.9722\n",
      "Epoch 99/100\n",
      "648/648 [==============================] - 1s 2ms/step - loss: 2.8314e-05 - accuracy: 1.0000 - val_loss: 0.1001 - val_accuracy: 0.9815\n",
      "Epoch 100/100\n",
      "648/648 [==============================] - 1s 2ms/step - loss: 2.0411e-05 - accuracy: 1.0000 - val_loss: 0.0998 - val_accuracy: 0.9815\n"
     ]
    }
   ],
   "source": [
    "model.fit = model.fit(train_img,train_label,validation_data=(validate_img,validate_label),nb_epoch=epochs,batch_size=32)"
   ]
  },
  {
   "cell_type": "code",
   "execution_count": null,
   "metadata": {
    "id": "6wCxgzE4wJ7p"
   },
   "outputs": [],
   "source": [
    "from sklearn.metrics import confusion_matrix\n",
    "from sklearn.metrics import classification_report"
   ]
  },
  {
   "cell_type": "code",
   "execution_count": null,
   "metadata": {
    "id": "WWVlMNmaw3dG"
   },
   "outputs": [],
   "source": [
    "l=model.predict(validate_img)\n",
    "v=[]\n",
    "for i in l:\n",
    "  v.append(i.argmax())"
   ]
  },
  {
   "cell_type": "code",
   "execution_count": null,
   "metadata": {
    "id": "PL4TcL26xkEH"
   },
   "outputs": [],
   "source": [
    "v1=[]\n",
    "for i in validate_label:\n",
    "  v1.append(i.argmax())"
   ]
  },
  {
   "cell_type": "code",
   "execution_count": null,
   "metadata": {
    "colab": {
     "base_uri": "https://localhost:8080/"
    },
    "id": "WbJEhYmAxXoW",
    "outputId": "f1ea34ff-a784-46bf-ac47-9369aa604e58"
   },
   "outputs": [
    {
     "name": "stdout",
     "output_type": "stream",
     "text": [
      "108\n",
      "[1, 2, 3, 4, 5, 6, 8, 9, 13, 14, 16, 18, 19, 21, 22, 10, 15, 17, 25, 26, 29, 28, 30, 31, 32, 33, 34, 36, 37, 40, 41, 43, 46, 47, 48, 49, 50, 51, 52, 53, 56, 58, 59, 60, 61, 62, 63, 64, 65, 66, 67, 69, 70, 71, 72, 73, 74, 75, 76, 77, 78, 80, 79, 81, 82, 83, 84, 85, 86, 87, 88, 89, 90, 91, 92, 93, 94, 96, 100, 102, 103, 104, 105, 106, 107, 108, 20, 23, 11, 12, 24, 27, 35, 42, 57, 98, 7, 38, 39, 44, 45, 54, 55, 68, 95, 97, 99, 101]\n"
     ]
    }
   ],
   "source": [
    "print(len(v))\n",
    "print(v1)"
   ]
  },
  {
   "cell_type": "code",
   "execution_count": null,
   "metadata": {
    "colab": {
     "base_uri": "https://localhost:8080/",
     "height": 345
    },
    "id": "81H3_5_RwMg7",
    "outputId": "720f94e5-7c37-46e6-f285-72338b567df8"
   },
   "outputs": [
    {
     "name": "stdout",
     "output_type": "stream",
     "text": [
      "AxesImage(54,36;334.8x217.44)\n"
     ]
    },
    {
     "data": {
      "text/plain": [
       "Text(0.5, 15.0, 'Predicted label')"
      ]
     },
     "execution_count": 36,
     "metadata": {
      "tags": []
     },
     "output_type": "execute_result"
    },
    {
     "data": {
      "image/png": "[encoded data removed]",
      "text/plain": [
       "<Figure size 432x288 with 2 Axes>"
      ]
     },
     "metadata": {
      "needs_background": "light",
      "tags": []
     },
     "output_type": "display_data"
    }
   ],
   "source": [
    "print(plt.imshow(confusion_matrix(v,v1),interpolation='nearest', cmap=plt.cm.Blues))\n",
    "plt.title(\"Confusion matrix\")\n",
    "plt.colorbar()\n",
    "plt.tight_layout()\n",
    "plt.ylabel('True label')\n",
    "plt.xlabel('Predicted label')"
   ]
  },
  {
   "cell_type": "code",
   "execution_count": null,
   "metadata": {
    "colab": {
     "base_uri": "https://localhost:8080/"
    },
    "id": "VpG1PW6PyLKi",
    "outputId": "c29966af-2ef6-4d03-d97c-379df2a375de"
   },
   "outputs": [
    {
     "name": "stdout",
     "output_type": "stream",
     "text": [
      "              precision    recall  f1-score   support\n",
      "\n",
      "           1       1.00      1.00      1.00         1\n",
      "           2       1.00      1.00      1.00         1\n",
      "           3       1.00      1.00      1.00         1\n",
      "           4       1.00      1.00      1.00         1\n",
      "           5       1.00      1.00      1.00         1\n",
      "           6       1.00      1.00      1.00         1\n",
      "           7       1.00      1.00      1.00         1\n",
      "           8       1.00      1.00      1.00         1\n",
      "           9       1.00      1.00      1.00         1\n",
      "          10       1.00      1.00      1.00         1\n",
      "          11       0.00      0.00      0.00         0\n",
      "          12       1.00      1.00      1.00         1\n",
      "          13       1.00      1.00      1.00         1\n",
      "          14       1.00      1.00      1.00         1\n",
      "          15       1.00      1.00      1.00         1\n",
      "          16       1.00      1.00      1.00         1\n",
      "          17       1.00      1.00      1.00         1\n",
      "          18       1.00      1.00      1.00         1\n",
      "          19       1.00      1.00      1.00         1\n",
      "          20       1.00      1.00      1.00         1\n",
      "          21       1.00      1.00      1.00         1\n",
      "          22       1.00      1.00      1.00         1\n",
      "          23       1.00      1.00      1.00         1\n",
      "          24       1.00      1.00      1.00         1\n",
      "          25       1.00      1.00      1.00         1\n",
      "          26       1.00      1.00      1.00         1\n",
      "          27       1.00      1.00      1.00         1\n",
      "          28       1.00      1.00      1.00         1\n",
      "          29       1.00      1.00      1.00         1\n",
      "          30       0.00      0.00      0.00         0\n",
      "          31       1.00      1.00      1.00         1\n",
      "          32       1.00      1.00      1.00         1\n",
      "          33       1.00      1.00      1.00         1\n",
      "          34       1.00      1.00      1.00         1\n",
      "          35       1.00      1.00      1.00         1\n",
      "          36       1.00      1.00      1.00         1\n",
      "          37       1.00      1.00      1.00         1\n",
      "          38       1.00      1.00      1.00         1\n",
      "          39       1.00      1.00      1.00         1\n",
      "          40       1.00      1.00      1.00         1\n",
      "          41       1.00      0.50      0.67         2\n",
      "          42       1.00      1.00      1.00         1\n",
      "          43       1.00      0.50      0.67         2\n",
      "          44       1.00      1.00      1.00         1\n",
      "          45       1.00      1.00      1.00         1\n",
      "          46       1.00      1.00      1.00         1\n",
      "          47       1.00      1.00      1.00         1\n",
      "          48       1.00      1.00      1.00         1\n",
      "          49       1.00      1.00      1.00         1\n",
      "          50       1.00      1.00      1.00         1\n",
      "          51       1.00      1.00      1.00         1\n",
      "          52       1.00      1.00      1.00         1\n",
      "          53       1.00      1.00      1.00         1\n",
      "          54       1.00      1.00      1.00         1\n",
      "          55       1.00      1.00      1.00         1\n",
      "          56       1.00      1.00      1.00         1\n",
      "          57       1.00      1.00      1.00         1\n",
      "          58       1.00      1.00      1.00         1\n",
      "          59       1.00      1.00      1.00         1\n",
      "          60       1.00      1.00      1.00         1\n",
      "          61       1.00      1.00      1.00         1\n",
      "          62       1.00      1.00      1.00         1\n",
      "          63       1.00      1.00      1.00         1\n",
      "          64       1.00      1.00      1.00         1\n",
      "          65       1.00      1.00      1.00         1\n",
      "          66       1.00      1.00      1.00         1\n",
      "          67       1.00      1.00      1.00         1\n",
      "          68       1.00      1.00      1.00         1\n",
      "          69       1.00      1.00      1.00         1\n",
      "          70       1.00      1.00      1.00         1\n",
      "          71       1.00      1.00      1.00         1\n",
      "          72       1.00      1.00      1.00         1\n",
      "          73       1.00      1.00      1.00         1\n",
      "          74       1.00      1.00      1.00         1\n",
      "          75       1.00      1.00      1.00         1\n",
      "          76       1.00      1.00      1.00         1\n",
      "          77       1.00      1.00      1.00         1\n",
      "          78       1.00      1.00      1.00         1\n",
      "          79       1.00      1.00      1.00         1\n",
      "          80       1.00      1.00      1.00         1\n",
      "          81       1.00      1.00      1.00         1\n",
      "          82       1.00      1.00      1.00         1\n",
      "          83       1.00      1.00      1.00         1\n",
      "          84       1.00      1.00      1.00         1\n",
      "          85       1.00      1.00      1.00         1\n",
      "          86       1.00      1.00      1.00         1\n",
      "          87       1.00      1.00      1.00         1\n",
      "          88       1.00      1.00      1.00         1\n",
      "          89       1.00      1.00      1.00         1\n",
      "          90       1.00      1.00      1.00         1\n",
      "          91       1.00      1.00      1.00         1\n",
      "          92       1.00      1.00      1.00         1\n",
      "          93       1.00      1.00      1.00         1\n",
      "          94       1.00      1.00      1.00         1\n",
      "          95       1.00      1.00      1.00         1\n",
      "          96       1.00      1.00      1.00         1\n",
      "          97       1.00      1.00      1.00         1\n",
      "          98       1.00      1.00      1.00         1\n",
      "          99       1.00      1.00      1.00         1\n",
      "         100       1.00      1.00      1.00         1\n",
      "         101       1.00      1.00      1.00         1\n",
      "         102       1.00      1.00      1.00         1\n",
      "         103       1.00      1.00      1.00         1\n",
      "         104       1.00      1.00      1.00         1\n",
      "         105       1.00      1.00      1.00         1\n",
      "         106       1.00      1.00      1.00         1\n",
      "         107       1.00      1.00      1.00         1\n",
      "         108       1.00      1.00      1.00         1\n",
      "\n",
      "    accuracy                           0.98       108\n",
      "   macro avg       0.98      0.97      0.98       108\n",
      "weighted avg       1.00      0.98      0.99       108\n",
      "\n"
     ]
    },
    {
     "name": "stderr",
     "output_type": "stream",
     "text": [
      "/usr/local/lib/python3.7/dist-packages/sklearn/metrics/_classification.py:1272: UndefinedMetricWarning: Recall and F-score are ill-defined and being set to 0.0 in labels with no true samples. Use `zero_division` parameter to control this behavior.\n",
      "  _warn_prf(average, modifier, msg_start, len(result))\n"
     ]
    }
   ],
   "source": [
    "print(classification_report(v,v1))"
   ]
  },
  {
   "cell_type": "code",
   "execution_count": null,
   "metadata": {
    "colab": {
     "base_uri": "https://localhost:8080/",
     "height": 653
    },
    "id": "8kitOVjDWRCC",
    "outputId": "324b456d-21b6-4d7d-e1be-cff97673f3b4"
   },
   "outputs": [
    {
     "data": {
      "text/plain": [
       "Text(0, 0.5, 'Accuracy')"
      ]
     },
     "execution_count": 38,
     "metadata": {
      "tags": []
     },
     "output_type": "execute_result"
    },
    {
     "data": {
      "image/png": "[encoded data removed]",
      "text/plain": [
       "<Figure size 1440x720 with 1 Axes>"
      ]
     },
     "metadata": {
      "needs_background": "light",
      "tags": []
     },
     "output_type": "display_data"
    }
   ],
   "source": [
    "train_loss = model.fit.history['loss']\n",
    "val_loss = model.fit.history['val_loss']\n",
    "train_acc = model.fit.history['accuracy']\n",
    "val_acc = model.fit.history['val_accuracy']\n",
    "xc = range(epochs)\n",
    "\n",
    "plt.figure(figsize=(20,10))\n",
    "plt.plot(xc,train_acc,label = 'Train accuracy')\n",
    "plt.plot(xc,val_acc,label='Test accuracy')\n",
    "plt.legend(loc='upper left',prop={'size':20})\n",
    "plt.title('Train and Test Accuracy plot',size=20)\n",
    "plt.xlabel('Epochs',size=20)\n",
    "plt.ylabel('Accuracy',size=20)"
   ]
  },
  {
   "cell_type": "code",
   "execution_count": null,
   "metadata": {
    "colab": {
     "base_uri": "https://localhost:8080/",
     "height": 653
    },
    "id": "GInD8rG8I4t5",
    "outputId": "6fcf506f-6b01-45f6-fe24-1e5ab91b004b"
   },
   "outputs": [
    {
     "data": {
      "text/plain": [
       "Text(0, 0.5, 'Loss')"
      ]
     },
     "execution_count": 39,
     "metadata": {
      "tags": []
     },
     "output_type": "execute_result"
    },
    {
     "data": {
      "image/png": "[encoded data removed]",
      "text/plain": [
       "<Figure size 1440x720 with 1 Axes>"
      ]
     },
     "metadata": {
      "needs_background": "light",
      "tags": []
     },
     "output_type": "display_data"
    }
   ],
   "source": [
    "train_loss = model.fit.history['loss']\n",
    "val_loss = model.fit.history['val_loss']\n",
    "train_acc = model.fit.history['accuracy']\n",
    "val_acc = model.fit.history['val_accuracy']\n",
    "xc = range(epochs)\n",
    "plt.figure(figsize=(20,10))\n",
    "plt.plot(xc,train_loss,label = 'train loss')\n",
    "plt.plot(xc,val_loss,label='testing loss')\n",
    "plt.legend(loc='upper left',prop={'size':20})\n",
    "plt.title('Traning and Testing Loss',size=20)\n",
    "plt.xlabel('Epochs',size=20)\n",
    "plt.ylabel('Loss',size=20)"
   ]
  }
 ],
 "metadata": {
  "accelerator": "GPU",
  "colab": {
   "collapsed_sections": [],
   "name": "casia_V1_CNN.ipynb",
   "provenance": []
  },
  "kernelspec": {
   "display_name": "Python 3",
   "language": "python",
   "name": "python3"
  },
  "language_info": {
   "codemirror_mode": {
    "name": "ipython",
    "version": 3
   },
   "file_extension": ".py",
   "mimetype": "text/x-python",
   "name": "python",
   "nbconvert_exporter": "python",
   "pygments_lexer": "ipython3",
   "version": "3.7.7"
  }
 },
 "nbformat": 4,
 "nbformat_minor": 1
}
